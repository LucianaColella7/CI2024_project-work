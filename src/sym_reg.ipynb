{
 "cells": [
  {
   "cell_type": "markdown",
   "metadata": {},
   "source": [
    "# Project work"
   ]
  },
  {
   "cell_type": "code",
   "execution_count": 1,
   "metadata": {},
   "outputs": [],
   "source": [
    "import numpy as np\n",
    "import random\n",
    "import copy\n",
    "import matplotlib.pyplot as plt\n",
    "from tqdm import tqdm"
   ]
  },
  {
   "cell_type": "markdown",
   "metadata": {},
   "source": [
    "### Utility functions"
   ]
  },
  {
   "cell_type": "code",
   "execution_count": 2,
   "metadata": {},
   "outputs": [],
   "source": [
    "# Evaluate the difficulty of each problem\n",
    "def evaluate_problem_difficulty(problems):\n",
    "    difficulty_scores = []\n",
    "    \n",
    "    for i, problem in enumerate(problems):\n",
    "        X, y, variables = problem[\"X\"], problem[\"y\"], problem[\"variables\"]\n",
    "        \n",
    "        num_vars = len(variables)  \n",
    "        num_samples = X.shape[1]  \n",
    "        variability = np.std(y)  \n",
    "\n",
    "        difficulty = (num_vars * 2) + (num_samples / 5000) + (variability / (np.median(y) + 1e-8))\n",
    "        difficulty_scores.append((i + 1, difficulty, X, y, variables))\n",
    "\n",
    "    return difficulty_scores"
   ]
  },
  {
   "cell_type": "code",
   "execution_count": 6,
   "metadata": {},
   "outputs": [
    {
     "name": "stdout",
     "output_type": "stream",
     "text": [
      "Problem 1: X = (1, 500), y = (500,), variables = ['x0'], Difficulty Score = -6.51\n",
      "Problem 2: X = (3, 5000), y = (5000,), variables = ['x0', 'x1', 'x2'], Difficulty Score = 50.01\n",
      "Problem 3: X = (3, 5000), y = (5000,), variables = ['x0', 'x1', 'x2'], Difficulty Score = 9.61\n",
      "Problem 4: X = (2, 5000), y = (5000,), variables = ['x0', 'x1'], Difficulty Score = 8.77\n",
      "Problem 5: X = (2, 5000), y = (5000,), variables = ['x0', 'x1'], Difficulty Score = 5.23\n",
      "Problem 6: X = (2, 5000), y = (5000,), variables = ['x0', 'x1'], Difficulty Score = 3.98\n",
      "Problem 7: X = (2, 5000), y = (5000,), variables = ['x0', 'x1'], Difficulty Score = 14.22\n",
      "Problem 8: X = (6, 50000), y = (50000,), variables = ['x0', 'x1', 'x2', 'x3', 'x4', 'x5'], Difficulty Score = 6.30\n"
     ]
    }
   ],
   "source": [
    "problems = []\n",
    "for i in range(1,9):\n",
    "  data = np.load(f\"data/problem_{i}.npz\")\n",
    "  X = data['x']\n",
    "  y = data['y']\n",
    "  num_vars = X.shape[0]\n",
    "  variables = [f\"x{i}\" for i in range(num_vars)]\n",
    "  problems.append({\"X\": X, \"y\": y, \"variables\": variables})\n",
    "\n",
    "difficulty_ranking = evaluate_problem_difficulty(problems)\n",
    "\n",
    "for problem_id, score, X, y, variables in difficulty_ranking:\n",
    "    print(f\"Problem {problem_id}: X = {X.shape}, y = {y.shape}, variables = {variables}, Difficulty Score = {score:.2f}\")"
   ]
  },
  {
   "cell_type": "markdown",
   "metadata": {},
   "source": []
  },
  {
   "cell_type": "markdown",
   "metadata": {},
   "source": [
    "### Node class"
   ]
  },
  {
   "cell_type": "code",
   "execution_count": null,
   "metadata": {},
   "outputs": [],
   "source": [
    "# Node class for expressing trees\n",
    "class Node:\n",
    "    \"\"\" Represents a single node in the expression tree \"\"\"\n",
    "    def __init__(self, data, children=None):\n",
    "        self.data = data  # Operator, variable, or constant\n",
    "        self.children = children if children else []\n",
    "    \n",
    "    def evaluate(self, variables):\n",
    "        \"\"\" Evaluates the mathematical expression represented by the tree \"\"\"\n",
    "        if isinstance(self.data, (int, float)):\n",
    "            return self.data  # Constant value\n",
    "        elif isinstance(self.data, str):\n",
    "            return variables[self.data]  # Variable lookup\n",
    "        elif callable(self.data):\n",
    "            try:\n",
    "                if len(self.children) == 1:\n",
    "                    return self.data(self.children[0].evaluate(variables))\n",
    "                elif len(self.children) == 2:\n",
    "                    return self.data(self.children[0].evaluate(variables),\n",
    "                                     self.children[1].evaluate(variables))\n",
    "            except (FloatingPointError, ValueError, ZeroDivisionError):\n",
    "                return float('inf')  # Penalize invalid expressions\n",
    "\n",
    "    def to_formula(self):\n",
    "        \"\"\" Returns a human-readable formula representation of the expression tree\"\"\"\n",
    "        if isinstance(self.data, (int, float)):\n",
    "            return str(round(self.data, 2))\n",
    "        if isinstance(self.data, str):\n",
    "            return self.data  # Variable name\n",
    "        if callable(self.data):\n",
    "            if len(self.children) == 1:\n",
    "                return f\"{UNARY_SYMBOLS.get(self.data, '?')}({self.children[0].to_formula()})\"\n",
    "            elif len(self.children) == 2:\n",
    "                return f\"({self.children[0].to_formula()} {OP_SYMBOLS.get(self.data, '?')} {self.children[1].to_formula()})\"\n",
    "        return \"?\"\n",
    "    \n",
    "    def extract_variables(self):\n",
    "        \"\"\" Extracts variables used in the expression tree \"\"\"\n",
    "        if isinstance(self.data, str):  # If the node is a variable\n",
    "            return [self.data]\n",
    "        elif isinstance(self.data, (int, float)):\n",
    "            return []  # Constants do not contain variables\n",
    "        else:\n",
    "            variables = []\n",
    "            for child in self.children:\n",
    "                variables.extend(child.extract_variables())\n",
    "            return variables"
   ]
  },
  {
   "cell_type": "markdown",
   "metadata": {},
   "source": [
    "### Handling Math Operators"
   ]
  },
  {
   "cell_type": "code",
   "execution_count": null,
   "metadata": {},
   "outputs": [],
   "source": [
    "# Protected mathematical operations\n",
    "#Prevent division by zero\n",
    "def protected_div(x, y):\n",
    "    return np.divide(x, y + 1e-6)  \n",
    "#Avoid log(0) or negative numbers\n",
    "def protected_log(x):\n",
    "    return np.log(np.abs(x) + 1e-6)\n",
    "#Ensure sqrt of non-negative values\n",
    "def protected_sqrt(x):\n",
    "    return np.sqrt(np.abs(x))\n",
    "\n",
    "# Define available operators\n",
    "BINARY_OPS = [np.add, np.subtract, np.multiply, protected_div, np.power]\n",
    "UNARY_OPS = [np.sin, np.cos, np.tan, protected_log, np.exp, protected_sqrt, np.abs]\n",
    "\n",
    "# Operator symbol mapping for better readable expressions\n",
    "OP_SYMBOLS = {np.add: '+', np.subtract: '-', np.multiply: '*', protected_div: '/', np.power: '^'}\n",
    "UNARY_SYMBOLS = {np.sin: 'sin', np.cos: 'cos', np.tan: 'tan', protected_log: 'log',\n",
    "                 np.exp: 'exp', protected_sqrt: 'sqrt', np.abs: 'abs'}"
   ]
  },
  {
   "cell_type": "markdown",
   "metadata": {},
   "source": [
    "### Calculate fitness"
   ]
  },
  {
   "cell_type": "code",
   "execution_count": null,
   "metadata": {},
   "outputs": [],
   "source": [
    "#*********************************** Fitness Function\n",
    "def calculate_fitness(individual, variables, X, y, penalty=4.5):\n",
    "    try:\n",
    "        y_pred = np.array([individual.evaluate(dict(zip(variables, x))) for x in X.T])\n",
    "        if np.any(np.isnan(y_pred)) or np.any(np.isinf(y_pred)):\n",
    "            return float('inf')  # Penalize invalid expressions\n",
    "        used_variables = set(individual.extract_variables())\n",
    "        complexity_penalty = penalty * (len(variables) - len(used_variables)) if len(used_variables) < len(variables) else 0\n",
    "        return np.mean((y - y_pred) ** 2) + complexity_penalty\n",
    "    except (FloatingPointError, ValueError, TypeError):\n",
    "        return float('inf')"
   ]
  },
  {
   "cell_type": "markdown",
   "metadata": {},
   "source": [
    "### Generate random trees"
   ]
  },
  {
   "cell_type": "code",
   "execution_count": null,
   "metadata": {},
   "outputs": [],
   "source": [
    "def generate_random_tree(max_depth, variables, depth=0, method='grow'):\n",
    "    \"\"\"Recursively generates a random expression tree with controlled depth\"\"\"\n",
    "    \n",
    "    constant_prob = 0.4\n",
    "\n",
    "    if depth >= max_depth or (depth > 0 and random.random() < 0.2):\n",
    "        if random.random() < 0.7:\n",
    "            return Node(random.choice(variables))  #variable node\n",
    "        else:\n",
    "            return Node(round(random.uniform(-10, 10), 2))  #random constant node between -10 and 10\n",
    "    \n",
    "    # If method is 'full', generate fully-grown trees\n",
    "    if method == 'full':\n",
    "        if random.random() < 0.5:\n",
    "            op = random.choice(UNARY_OPS)\n",
    "            return Node(op, [generate_random_tree(max_depth, variables, depth + 1, method='full')])\n",
    "        else:\n",
    "            op = random.choice(BINARY_OPS)\n",
    "            if random.random() < constant_prob:\n",
    "                #Randomly decide which child will be a constant\n",
    "                if random.random() < 0.5:\n",
    "                    #Left child is a constant\n",
    "                    left_child = Node(random.uniform(-10, 10))  \n",
    "                    right_child = generate_random_tree(max_depth, variables, depth + 1, method='full')  \n",
    "                else:\n",
    "                    #Right child is a constant\n",
    "                    left_child = generate_random_tree(max_depth, variables, depth + 1, method='full')  \n",
    "                    right_child = Node(random.uniform(-10, 10))  \n",
    "            else:\n",
    "                #No constants\n",
    "                left_child = generate_random_tree(max_depth, variables, depth + 1, method='full')\n",
    "                right_child = generate_random_tree(max_depth, variables, depth + 1, method='full')\n",
    "\n",
    "            return Node(op, [left_child, right_child])\n",
    "    \n",
    "    # If method is 'grow', generate trees with variable depth\n",
    "    elif method == 'grow':\n",
    "        if random.random() < 0.5:\n",
    "            op = random.choice(UNARY_OPS)\n",
    "            return Node(op, [generate_random_tree(max_depth, variables, depth + 1, method='grow')])\n",
    "        else:\n",
    "            op = random.choice(BINARY_OPS)\n",
    "            \n",
    "            if random.random() < constant_prob:\n",
    "                if random.random() < 0.5:\n",
    "                    #Left child is a constant\n",
    "                    left_child = Node(random.uniform(-10, 10))  \n",
    "                    right_child = generate_random_tree(max_depth, variables, depth + 1, method='grow')  \n",
    "                else:\n",
    "                    #Right child is a constant\n",
    "                    left_child = generate_random_tree(max_depth, variables, depth + 1, method='grow')  \n",
    "                    right_child = Node(random.uniform(-10, 10))  \n",
    "            else:\n",
    "                #No constants\n",
    "                left_child = generate_random_tree(max_depth, variables, depth + 1, method='grow')\n",
    "                right_child = generate_random_tree(max_depth, variables, depth + 1, method='grow')\n",
    "\n",
    "            return Node(op, [left_child, right_child])\n",
    "        \n",
    "    # If method is 'half_and_half', mix 'full' and 'grow' methods\n",
    "    elif method == 'half_and_half':\n",
    "        if random.random() < 0.6:\n",
    "            return generate_random_tree(max_depth, variables, depth, method='full')\n",
    "        else:\n",
    "            return generate_random_tree(max_depth, variables, depth, method='grow')\n"
   ]
  },
  {
   "cell_type": "markdown",
   "metadata": {},
   "source": [
    "### Generate population"
   ]
  },
  {
   "cell_type": "code",
   "execution_count": null,
   "metadata": {},
   "outputs": [],
   "source": [
    "def generate_population(pop_size, max_depth, variables, method='half_and_half'):\n",
    "    \"\"\"Generates an initial population of random expression trees.\"\"\"\n",
    "    return [generate_random_tree(max_depth, variables, method=method) for _ in range(pop_size)]"
   ]
  },
  {
   "cell_type": "markdown",
   "metadata": {},
   "source": [
    "### Evolutionary operators"
   ]
  },
  {
   "cell_type": "code",
   "execution_count": null,
   "metadata": {},
   "outputs": [],
   "source": [
    "#*************************************** Mutation\n",
    "def mutate(node, variables, generation, max_depth=3, mutation_rate=0.3, top=30):\n",
    "    \"\"\" Mutates a node in the tree, adjusting mutation intensity over generations. \"\"\"\n",
    "    if generation >= top:\n",
    "        mutation_rate = max(0.1, mutation_rate * 0.5)  # Reduce mutation in later generations\n",
    "    else:\n",
    "        mutation_rate = min(1.0, mutation_rate * 1.2)  # Increase mutation in early generations\n",
    "    \n",
    "    if random.random() < mutation_rate:\n",
    "        if isinstance(node.data, str):\n",
    "            node.data = random.choice(variables)  # Change variable\n",
    "        elif isinstance(node.data, (int, float)):\n",
    "            node.data *= random.uniform(0.5, 1.5)  # Perturb numeric values\n",
    "        elif callable(node.data):\n",
    "            node.data = random.choice(UNARY_OPS if len(node.children) == 1 else BINARY_OPS)\n",
    "    \n",
    "    if node.children and generation < top and random.random() < mutation_rate:\n",
    "        if random.random() < 0.5:\n",
    "            return copy.deepcopy(generate_random_tree(max_depth, variables))  # Replace subtree\n",
    "    \n",
    "    for i in range(len(node.children)):\n",
    "        node.children[i] = mutate(node.children[i], variables, generation, max_depth, mutation_rate, top)\n",
    "    \n",
    "    return node\n",
    "\n",
    "\n",
    "#*************************************** Crossover\n",
    "def crossover(parent1, parent2):\n",
    "    \"\"\" Swaps a subtree from parent1 with a subtree from parent2. \"\"\"\n",
    "    child1, child2 = copy.deepcopy(parent1), copy.deepcopy(parent2)\n",
    "    node1, node2 = random.choice(child1.children), random.choice(child2.children)\n",
    "    node1.data, node2.data = node2.data, node1.data\n",
    "    node1.children, node2.children = node2.children, node1.children\n",
    "    return child1"
   ]
  },
  {
   "cell_type": "markdown",
   "metadata": {},
   "source": [
    "### Settings"
   ]
  },
  {
   "cell_type": "code",
   "execution_count": null,
   "metadata": {},
   "outputs": [],
   "source": [
    "penalties = [1.5, 5e12, 5000_000, 4.5, 5.5, 5.5, 5.5, 5000_000]\n",
    "pop_size = [50, 150, 150, 100, 100, 100, 100, 150]\n",
    "tournament_size = [5, 10, 10, 10, 10, 8, 10, 10]\n",
    "epochs = [50, 50, 50, 50, 50, 50, 50, 50]\n",
    "max_depth = [3, 5, 5, 5, 5, 5, 5, 5]\n",
    "methods_pop = ['grow', 'full', 'full', 'full', 'full', 'full', 'full', 'full']\n",
    "cross_probs = [0.7, 0.75, 0.75, 0.75, 0.75, 0.75, 0.75, 0.75]\n",
    "mut_probs = [0.2, 0.25, 0.25, 0.25, 0.25, 0.25, 0.25, 0.25]"
   ]
  }
 ],
 "metadata": {
  "kernelspec": {
   "display_name": "venv",
   "language": "python",
   "name": "python3"
  },
  "language_info": {
   "codemirror_mode": {
    "name": "ipython",
    "version": 3
   },
   "file_extension": ".py",
   "mimetype": "text/x-python",
   "name": "python",
   "nbconvert_exporter": "python",
   "pygments_lexer": "ipython3",
   "version": "3.13.1"
  }
 },
 "nbformat": 4,
 "nbformat_minor": 2
}
